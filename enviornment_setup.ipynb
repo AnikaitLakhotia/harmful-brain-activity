{
 "cells": [
  {
   "cell_type": "markdown",
   "metadata": {},
   "source": [
    "# Deleting all the Modules from Venv"
   ]
  },
  {
   "cell_type": "code",
   "execution_count": null,
   "metadata": {},
   "outputs": [
    {
     "ename": "",
     "evalue": "",
     "output_type": "error",
     "traceback": [
      "\u001b[1;31mRunning cells with '/opt/homebrew/bin/python3' requires the ipykernel package.\n",
      "\u001b[1;31mRun the following command to install 'ipykernel' into the Python environment. \n",
      "\u001b[1;31mCommand: '/opt/homebrew/bin/python3 -m pip install ipykernel -U --user --force-reinstall'"
     ]
    }
   ],
   "source": [
    "%pip freeze | xargs pip -q uninstall -y"
   ]
  },
  {
   "cell_type": "markdown",
   "metadata": {},
   "source": [
    "# Setting Up the Python Enviornment"
   ]
  },
  {
   "cell_type": "code",
   "execution_count": 3,
   "metadata": {},
   "outputs": [
    {
     "name": "stdout",
     "output_type": "stream",
     "text": [
      "\u001b[33mWARNING: Skipping /Users/sargunsinghbhatti/Documents/Documents - Sargun’s MacBook Air/GitHub/harmful-brain-activity/venv/lib/python3.11/site-packages/optree-0.10.0.dist-info due to invalid metadata entry 'name'\u001b[0m\u001b[33m\n",
      "\u001b[0m\u001b[33mWARNING: Skipping /Users/sargunsinghbhatti/Documents/Documents - Sargun’s MacBook Air/GitHub/harmful-brain-activity/venv/lib/python3.11/site-packages/joblib-1.3.2.dist-info due to invalid metadata entry 'name'\u001b[0m\u001b[33m\n",
      "\u001b[0m\u001b[33mWARNING: Skipping /Users/sargunsinghbhatti/Documents/Documents - Sargun’s MacBook Air/GitHub/harmful-brain-activity/venv/lib/python3.11/site-packages/optree-0.10.0.dist-info due to invalid metadata entry 'name'\u001b[0m\u001b[33m\n",
      "\u001b[0m\u001b[33mWARNING: Skipping /Users/sargunsinghbhatti/Documents/Documents - Sargun’s MacBook Air/GitHub/harmful-brain-activity/venv/lib/python3.11/site-packages/joblib-1.3.2.dist-info due to invalid metadata entry 'name'\u001b[0m\u001b[33m\n",
      "\u001b[0mNote: you may need to restart the kernel to use updated packages.\n"
     ]
    }
   ],
   "source": [
    "%pip -q install -r requirements.txt"
   ]
  },
  {
   "cell_type": "markdown",
   "metadata": {},
   "source": [
    "# Downloading the Kaggle Dataset"
   ]
  },
  {
   "cell_type": "code",
   "execution_count": 4,
   "metadata": {},
   "outputs": [
    {
     "name": "stdout",
     "output_type": "stream",
     "text": [
      "Downloading hms-harmful-brain-activity-classification.zip to /Users/sargunsinghbhatti/Documents/Documents - Sargun’s MacBook Air/GitHub/harmful-brain-activity\n",
      "... resuming from 6297747456 bytes (13465040444 bytes left) ...\n",
      "100%|█████████████████████████████████████▉| 18.4G/18.4G [15:49<00:00, 10.2MB/s]\n",
      "100%|██████████████████████████████████████| 18.4G/18.4G [15:49<00:00, 14.2MB/s]\n"
     ]
    }
   ],
   "source": [
    "!chmod 600 ~/.kaggle/kaggle.json\n",
    "!kaggle competitions download -c hms-harmful-brain-activity-classification"
   ]
  },
  {
   "cell_type": "markdown",
   "metadata": {},
   "source": [
    "# Extracting the Kaggle Dataset"
   ]
  },
  {
   "cell_type": "code",
   "execution_count": 5,
   "metadata": {},
   "outputs": [],
   "source": [
    "!unzip -q hms-harmful-brain-activity-classification.zip -d data"
   ]
  },
  {
   "cell_type": "markdown",
   "metadata": {},
   "source": [
    "# Setting up the Enviornment for Github Intergration"
   ]
  },
  {
   "cell_type": "code",
   "execution_count": null,
   "metadata": {},
   "outputs": [],
   "source": [
    "!echo logs > .gitignore\n",
    "!echo X_train_list.npy >> .gitignore\n",
    "!echo hms-harmful-brain-activity-classification.zip >> .gitignore\n",
    "!echo data >> .gitignore"
   ]
  }
 ],
 "metadata": {
  "kernelspec": {
   "display_name": "venv",
   "language": "python",
   "name": "python3"
  },
  "language_info": {
   "codemirror_mode": {
    "name": "ipython",
    "version": 3
   },
   "file_extension": ".py",
   "mimetype": "text/x-python",
   "name": "python",
   "nbconvert_exporter": "python",
   "pygments_lexer": "ipython3",
   "version": "3.12.2"
  }
 },
 "nbformat": 4,
 "nbformat_minor": 2
}
